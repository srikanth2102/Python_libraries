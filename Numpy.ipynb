{
 "cells": [
  {
   "cell_type": "code",
   "execution_count": null,
   "id": "7269cadd",
   "metadata": {},
   "outputs": [],
   "source": [
    "# Numpy Notebook\n",
    "\n",
    "## Contents\n",
    "* creating a numpy array.\n",
    "* creating a two-dimensional numpy array.\n",
    "* reshaping the array.\n",
    "* mathematical operations like addition, subraction, multiplication and division.\n",
    "* transpose of a matrix\n",
    "* array indexing\n",
    "* slicing the array\n",
    "* copying the array\n",
    "* sorting the array\n",
    "* locating the element in an array\n",
    "* concatenating two arrays\n",
    "* iterating through an array"
   ]
  },
  {
   "cell_type": "code",
   "execution_count": 1,
   "id": "df2bfbb2",
   "metadata": {},
   "outputs": [],
   "source": [
    "import numpy as np"
   ]
  },
  {
   "cell_type": "code",
   "execution_count": 9,
   "id": "d0c09b9c",
   "metadata": {},
   "outputs": [
    {
     "name": "stdout",
     "output_type": "stream",
     "text": [
      "<class 'numpy.ndarray'>\n",
      "[1 2 3 4 5 6 7 8 9]\n"
     ]
    }
   ],
   "source": [
    "# creating a new numpy array\n",
    "a = np.array([1,2,3,4,5,6,7,8,9])\n",
    "\n",
    "# checking the type of a\n",
    "print(type(a))\n",
    "\n",
    "print(a)"
   ]
  },
  {
   "cell_type": "code",
   "execution_count": 4,
   "id": "5a1694e0",
   "metadata": {},
   "outputs": [
    {
     "name": "stdout",
     "output_type": "stream",
     "text": [
      "[[1 2 3]\n",
      " [4 5 6]\n",
      " [7 8 9]]\n"
     ]
    }
   ],
   "source": [
    "# creating a two dimensional array\n",
    "twod_array = np.array([[1,2,3],[4,5,6],[7,8,9]])\n",
    "\n",
    "print(twod_array)"
   ]
  },
  {
   "cell_type": "code",
   "execution_count": 15,
   "id": "a1c4bf39",
   "metadata": {},
   "outputs": [
    {
     "name": "stdout",
     "output_type": "stream",
     "text": [
      "[[1 2 3]\n",
      " [4 5 6]\n",
      " [7 8 9]]\n"
     ]
    }
   ],
   "source": [
    "# reshaping the array\n",
    "a = a.reshape(3,3)\n",
    "\n",
    "print(a)"
   ]
  },
  {
   "cell_type": "code",
   "execution_count": 13,
   "id": "7487a42c",
   "metadata": {},
   "outputs": [
    {
     "name": "stdout",
     "output_type": "stream",
     "text": [
      "[[9 8 7]\n",
      " [6 5 4]\n",
      " [3 2 1]]\n"
     ]
    }
   ],
   "source": [
    "# creating an another numpy array\n",
    "b = np.array([[9,8,7],[6,5,4],[3,2,1]])\n",
    "\n",
    "print(b)"
   ]
  },
  {
   "cell_type": "code",
   "execution_count": 16,
   "id": "e17971f0",
   "metadata": {},
   "outputs": [
    {
     "name": "stdout",
     "output_type": "stream",
     "text": [
      "[[10 10 10]\n",
      " [10 10 10]\n",
      " [10 10 10]]\n"
     ]
    }
   ],
   "source": [
    "# adding two arrays\n",
    "add = a+b\n",
    "\n",
    "print(add)"
   ]
  },
  {
   "cell_type": "code",
   "execution_count": 17,
   "id": "238a8cc6",
   "metadata": {},
   "outputs": [
    {
     "name": "stdout",
     "output_type": "stream",
     "text": [
      "[[-8 -6 -4]\n",
      " [-2  0  2]\n",
      " [ 4  6  8]]\n"
     ]
    }
   ],
   "source": [
    "# subracting two arrays\n",
    "sub = a-b\n",
    "\n",
    "print(sub)"
   ]
  },
  {
   "cell_type": "code",
   "execution_count": 18,
   "id": "9ca219dd",
   "metadata": {},
   "outputs": [
    {
     "name": "stdout",
     "output_type": "stream",
     "text": [
      "[[ 9 16 21]\n",
      " [24 25 24]\n",
      " [21 16  9]]\n"
     ]
    }
   ],
   "source": [
    "# multiplying two array\n",
    "mul = a*b\n",
    "\n",
    "print(mul)"
   ]
  },
  {
   "cell_type": "code",
   "execution_count": 19,
   "id": "5556a567",
   "metadata": {},
   "outputs": [
    {
     "name": "stdout",
     "output_type": "stream",
     "text": [
      "[[0.11111111 0.25       0.42857143]\n",
      " [0.66666667 1.         1.5       ]\n",
      " [2.33333333 4.         9.        ]]\n"
     ]
    }
   ],
   "source": [
    "# divide two arrays\n",
    "div = a/b\n",
    "\n",
    "print(div)"
   ]
  },
  {
   "cell_type": "code",
   "execution_count": 21,
   "id": "d846814a",
   "metadata": {
    "scrolled": true
   },
   "outputs": [
    {
     "name": "stdout",
     "output_type": "stream",
     "text": [
      "[[1 4 7]\n",
      " [2 5 8]\n",
      " [3 6 9]]\n"
     ]
    }
   ],
   "source": [
    "# transpose of a matrix\n",
    "transpose_mat = np.transpose(a)\n",
    "\n",
    "print(transpose_mat)"
   ]
  },
  {
   "cell_type": "code",
   "execution_count": 22,
   "id": "6ec25e8e",
   "metadata": {},
   "outputs": [],
   "source": [
    "# creating a one dimensional array\n",
    "a = np.array([1,2,3,4,5,6,7,8,9])"
   ]
  },
  {
   "cell_type": "code",
   "execution_count": 24,
   "id": "e4f67350",
   "metadata": {},
   "outputs": [
    {
     "name": "stdout",
     "output_type": "stream",
     "text": [
      "1\n",
      "8\n"
     ]
    }
   ],
   "source": [
    "# using index to access the elements of the array\n",
    "# array indexing starts from 0 to length-1\n",
    "\n",
    "print(a[0])\n",
    "print(a[7])"
   ]
  },
  {
   "cell_type": "code",
   "execution_count": 26,
   "id": "bbeb54e4",
   "metadata": {},
   "outputs": [
    {
     "name": "stdout",
     "output_type": "stream",
     "text": [
      "9\n",
      "5\n"
     ]
    }
   ],
   "source": [
    "# we can also use negative index to access elements from the back\n",
    "# negative index starts from -1\n",
    "\n",
    "print(a[-1])\n",
    "print(a[-5])"
   ]
  },
  {
   "cell_type": "code",
   "execution_count": 30,
   "id": "1a7c1e41",
   "metadata": {},
   "outputs": [
    {
     "name": "stdout",
     "output_type": "stream",
     "text": [
      "[1 2 3 4 5 6 7 8 9]\n"
     ]
    }
   ],
   "source": [
    "# slicing the array\n",
    "# slicing the array in numpy is similar to that of in python list\n",
    "\n",
    "sliced_array = a[0:len(a)]\n",
    "\n",
    "print(sliced_array)"
   ]
  },
  {
   "cell_type": "code",
   "execution_count": 33,
   "id": "336b45aa",
   "metadata": {},
   "outputs": [
    {
     "name": "stdout",
     "output_type": "stream",
     "text": [
      "[1 2 3 4]\n"
     ]
    }
   ],
   "source": [
    "sliced_array = a[0:4]\n",
    "print(sliced_array)\n",
    "\n",
    "# even though we mentioned 0:4 we only got elements from 0:3.\n",
    "# the reason is that the array is sliced only to index before the ending number.\n",
    "# i.e if it is 0:5 we will get elements from 0:4 and if its from 1:10 we will get 1:9"
   ]
  },
  {
   "cell_type": "code",
   "execution_count": 36,
   "id": "8cd9bcd5",
   "metadata": {},
   "outputs": [
    {
     "data": {
      "text/plain": [
       "array([[1, 2, 3],\n",
       "       [1, 2, 3],\n",
       "       [1, 2, 3]])"
      ]
     },
     "execution_count": 36,
     "metadata": {},
     "output_type": "execute_result"
    }
   ],
   "source": [
    "# creating a two dimensional array\n",
    "l = [1,2,3]\n",
    "two_d_list = []\n",
    "for i in range(3):\n",
    "    two_d_list.append(l)\n",
    "    \n",
    "a = np.array(two_d_list)\n",
    "a"
   ]
  },
  {
   "cell_type": "code",
   "execution_count": 37,
   "id": "6841eecc",
   "metadata": {
    "scrolled": true
   },
   "outputs": [
    {
     "data": {
      "text/plain": [
       "array([[1],\n",
       "       [1],\n",
       "       [1]])"
      ]
     },
     "execution_count": 37,
     "metadata": {},
     "output_type": "execute_result"
    }
   ],
   "source": [
    "# slicing two dimensional array\n",
    "# slice the array to get the first column of the matrix\n",
    "sliced_array = a[0:3,0:1]\n",
    "\n",
    "# 0:3 is used to slice the row.\n",
    "# 0:1 is used to slice the column.\n",
    "\n",
    "sliced_array"
   ]
  },
  {
   "cell_type": "code",
   "execution_count": 39,
   "id": "5739187c",
   "metadata": {},
   "outputs": [
    {
     "data": {
      "text/plain": [
       "array([[1, 2, 3]])"
      ]
     },
     "execution_count": 39,
     "metadata": {},
     "output_type": "execute_result"
    }
   ],
   "source": [
    "# slice to get the first row of the matrix\n",
    "\n",
    "sliced_array = a[0:1,:]\n",
    "\n",
    "sliced_array"
   ]
  },
  {
   "cell_type": "code",
   "execution_count": 45,
   "id": "a1229c9a",
   "metadata": {},
   "outputs": [
    {
     "data": {
      "text/plain": [
       "3"
      ]
     },
     "execution_count": 45,
     "metadata": {},
     "output_type": "execute_result"
    }
   ],
   "source": [
    "# acess the element at the second row and third column\n",
    "# since the array indexing starts from 0, 1 represent the second row and 2 represent the 3rd column\n",
    "a[1][2]"
   ]
  },
  {
   "cell_type": "code",
   "execution_count": 66,
   "id": "55f07a0f",
   "metadata": {},
   "outputs": [
    {
     "name": "stdout",
     "output_type": "stream",
     "text": [
      "initial array [1 2 3]\n",
      "copied array [1 2 3]\n",
      "copied array after change [10  2  3]\n",
      "intial array after changing copied array [10  2  3]\n"
     ]
    }
   ],
   "source": [
    "# copying a numpy array\n",
    "a = np.array(l)\n",
    "print(\"initial array\",a)\n",
    "\n",
    "b = a\n",
    "print(\"copied array\",b)\n",
    "\n",
    "b[0]=10\n",
    "print(\"copied array after change\", b)\n",
    "\n",
    "print(\"intial array after changing copied array\", a)\n",
    "\n",
    "# the changes made in the array b is reflected in the array a too when using assignment operator."
   ]
  },
  {
   "cell_type": "code",
   "execution_count": 65,
   "id": "d873ab57",
   "metadata": {},
   "outputs": [
    {
     "name": "stdout",
     "output_type": "stream",
     "text": [
      "initial array [1 2 3]\n",
      "copied array [1 2 3]\n",
      "copied array after change [10  2  3]\n",
      "intial array after changing copied array [1 2 3]\n"
     ]
    }
   ],
   "source": [
    "# inorder to overcome this we can use several methods. Method 1 : using copy\n",
    "a = np.array(l)\n",
    "print(\"initial array\",a)\n",
    "\n",
    "b = np.copy(a)\n",
    "print(\"copied array\",b)\n",
    "\n",
    "b[0]=10\n",
    "print(\"copied array after change\", b)\n",
    "\n",
    "print(\"intial array after changing copied array\", a)\n",
    "\n",
    "# now the changes made in the array b isnt reflected on the array b."
   ]
  },
  {
   "cell_type": "code",
   "execution_count": 78,
   "id": "77ca15ac",
   "metadata": {},
   "outputs": [
    {
     "name": "stdout",
     "output_type": "stream",
     "text": [
      "intial array [9 8 7 6 5 4 3 2 1]\n",
      "array after sorted in asecnding order [1 2 3 4 5 6 7 8 9]\n",
      "array after sorted in descending order [1 2 3 4 5 6 7 8 9]\n"
     ]
    }
   ],
   "source": [
    "# sorting an array\n",
    "# using arange fn to create an array\n",
    "a = np.arange(9,0,-1)\n",
    "print(\"intial array\",a)\n",
    "\n",
    "# sorting the array in ascending order\n",
    "a.sort()\n",
    "print(\"array after sorted in asecnding order\",a)\n",
    "\n",
    "# sorting in desending order\n",
    "a.sort(-1)\n",
    "print(\"array after sorted in descending order\",a)"
   ]
  },
  {
   "cell_type": "code",
   "execution_count": 93,
   "id": "21a714ca",
   "metadata": {},
   "outputs": [
    {
     "name": "stdout",
     "output_type": "stream",
     "text": [
      "element '1' is found at 0\n",
      "element '1' is found at 5\n",
      "element '2' is found at 1\n",
      "element '2' is found at 3\n"
     ]
    }
   ],
   "source": [
    "# finding an element in the array\n",
    "\n",
    "a = np.array([1,2,3,2,5,1])\n",
    "\n",
    "# finding the indices where element is 1\n",
    "x = np.where(a==1)\n",
    "\n",
    "# printing the indices in the array where the element is 1\n",
    "for i in x:\n",
    "    for j in i:\n",
    "        print(\"element '1' is found at\",j)\n",
    "        \n",
    "# finding the indices where element is 2\n",
    "y = np.where(a==2)\n",
    "\n",
    "for i in y:\n",
    "    for j in i:\n",
    "        print(\"element '2' is found at\",j)"
   ]
  },
  {
   "cell_type": "code",
   "execution_count": 115,
   "id": "bfe98fdb",
   "metadata": {},
   "outputs": [
    {
     "name": "stdout",
     "output_type": "stream",
     "text": [
      "horizontally joining: \n",
      " [[1 2 1 1]\n",
      " [3 4 1 1]\n",
      " [5 6 1 1]] \n",
      "\n",
      "horizontally joining: \n",
      " [[1 2 1 1]\n",
      " [3 4 1 1]\n",
      " [5 6 1 1]] \n",
      "\n",
      "vertically joining: \n",
      " [[1 2]\n",
      " [3 4]\n",
      " [5 6]\n",
      " [1 1]\n",
      " [1 1]\n",
      " [1 1]] \n",
      "\n",
      "horizontally joining: \n",
      " [[1 2]\n",
      " [3 4]\n",
      " [5 6]\n",
      " [1 1]\n",
      " [1 1]\n",
      " [1 1]]\n"
     ]
    }
   ],
   "source": [
    "# joining two arrays\n",
    "a = np.array([[1,2],[3,4],[5,6]])\n",
    "b = np.array([[1,1],[1,1],[1,1]])\n",
    "\n",
    "# joining the two arrays horizontally\n",
    "c = np.concatenate((a,b), axis=1)\n",
    "print(\"horizontally joining:\",\"\\n\",c,\"\\n\")\n",
    "\n",
    "c = np.hstack((a,b))\n",
    "print(\"horizontally joining:\",\"\\n\",c,\"\\n\")\n",
    "\n",
    "# joining the two arrays vertically\n",
    "d = np.concatenate((a,b), axis=0)\n",
    "print(\"vertically joining:\",\"\\n\",d,\"\\n\")\n",
    "\n",
    "d = np.vstack((a,b))\n",
    "print(\"horizontally joining:\",\"\\n\",d)"
   ]
  },
  {
   "cell_type": "code",
   "execution_count": 119,
   "id": "51c01de3",
   "metadata": {},
   "outputs": [
    {
     "name": "stdout",
     "output_type": "stream",
     "text": [
      "1\n",
      "2\n",
      "3\n",
      "4\n",
      "5\n",
      "6\n"
     ]
    }
   ],
   "source": [
    "# iterating through an array\n",
    "for row in a:\n",
    "    for element in row:\n",
    "        print(element)"
   ]
  },
  {
   "cell_type": "code",
   "execution_count": 123,
   "id": "128d656f",
   "metadata": {
    "scrolled": true
   },
   "outputs": [
    {
     "name": "stdout",
     "output_type": "stream",
     "text": [
      "3 2\n",
      "1\n",
      "2\n",
      "3\n",
      "4\n",
      "5\n",
      "6\n"
     ]
    }
   ],
   "source": [
    "# finding the shape of the array\n",
    "rows, columns = a.shape\n",
    "print(rows,columns)\n",
    "\n",
    "# iterating through the arrray\n",
    "for i in range(rows):\n",
    "    for j in range(columns):\n",
    "        print(a[i][j])"
   ]
  },
  {
   "cell_type": "code",
   "execution_count": null,
   "id": "bba23120",
   "metadata": {},
   "outputs": [],
   "source": [
    "# finding the inverse of a matrix using numpy\n",
    "# first lets create a square matrix\n",
    "\n",
    "a = np.array([12,23,22,15,16,19,92,93,22]).reshape(3,3)\n",
    "\n",
    "inv_matrix = np.linalg.inv(a)\n",
    "inv_matrix"
   ]
  }
 ],
 "metadata": {
  "kernelspec": {
   "display_name": "Python 3 (ipykernel)",
   "language": "python",
   "name": "python3"
  },
  "language_info": {
   "codemirror_mode": {
    "name": "ipython",
    "version": 3
   },
   "file_extension": ".py",
   "mimetype": "text/x-python",
   "name": "python",
   "nbconvert_exporter": "python",
   "pygments_lexer": "ipython3",
   "version": "3.7.6"
  }
 },
 "nbformat": 4,
 "nbformat_minor": 5
}
